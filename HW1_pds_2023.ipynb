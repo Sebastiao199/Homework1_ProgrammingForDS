{
 "cells": [
  {
   "cell_type": "markdown",
   "metadata": {},
   "source": [
    "# Programming for Data Science 2023\n",
    "## Homework Assigment One\n",
    "\n",
    "Homework activities aim not only at testing your ability to put into practice the concepts you have learned during the Lectures and Labs, but also your ability to explore the Python documentation as a resource. \n",
    "\n",
    "Above all, it is an opportunity for you to challenge yourself and practice. If you are having difficulties with the assignment reach out for support.\n",
    "\n",
    "The Homework Assigment One is divided into **three parts**:\n",
    "1. Explore the core building blocks of programming, focusing in variables, data structures, and their manipulation;\n",
    "2. Explore data loading and analysis using the core elements of Python, without fancy third-party libraries;\n",
    "3. Explore functional programming by defining different functions and operating with the map() and filter().\n",
    "\n",
    "Your submission will be graded according to the following guidelines:\n",
    "1. **Execution** (does your program do what is asked from the exercise?);\n",
    "2. **Objectivity** (are you using the adequate libraries?);\n",
    "3. **Readibility** of your code (that includes comments, naming of variables, supporting text, etc ...).\n",
    "\n",
    "This assignment is to be done in groups of two, groups that are caught cheating will obtain a score of 0 points. \\\n",
    "\n",
    "Oral Examination will be conducted to a subset of groups picked randomly and or that have been flagged during the grading\n",
    "\n",
    "The Homeworking Assignment One is worth **20%** of your final grade.\n",
    "\n",
    "The submission package should correspond to a .zip archive (**.rar files are not accepted**) with the following files:\n",
    "1. Jupyter Notebook with the output of all the cells;\n",
    "2. PDF/HTML of your Jupyter Notebook (on Jupyter go to File -> Download As -> PDF);\n",
    "3. All text or .csv files exported as part of the exercises.\n",
    "\n",
    "#### Important Notes: \n",
    "- **You are ONLY allowed to use any library from the Python STL (see here https://docs.python.org/3/library/).**\n",
    "- **Comment your code properly, which includes naming your variables in a meaningful manner. Badly documented code will be penalized.**</b>\n",
    "- **Submissions in non .zip format will be penalized with 2 points.**\n",
    "\n",
    "Submission is done through the respective Moodle activity.\\\n",
    "Deadline is **20223-09-28**, a Thursday, at 23:59.\\\n",
    "A penality of 1 point per day late will be applied to late deliveries."
   ]
  },
  {
   "cell_type": "markdown",
   "metadata": {},
   "source": [
    "# <span style=\"color:brown\"> Start Here </span> \n",
    "\n",
    "[Please Complete the following form with your details]\n",
    "\n",
    "Student Name - Sebastião Oliveira<br>\n",
    "Student id - 20220558<br>\n",
    "Contact e-mail - sebastiaocondeoliveira@gmail.com<br>\n",
    "\n",
    "\n",
    "Student Name - Filipe Rodrigues<br>\n",
    "Student id - 20201866<br>\n",
    "Contact e-mail - filiperodrigues.95@gmail.com<br>"
   ]
  },
  {
   "cell_type": "markdown",
   "metadata": {},
   "source": [
    "## Imports"
   ]
  },
  {
   "cell_type": "code",
   "execution_count": 230,
   "metadata": {},
   "outputs": [],
   "source": [
    "import random\n",
    "import statistics\n",
    "import re\n",
    "import csv\n",
    "import math"
   ]
  },
  {
   "cell_type": "markdown",
   "metadata": {},
   "source": [
    "# <span style=\"color:brown\"> Part 1 -  Variable Declaration and Manipulation </span> \n",
    "\n",
    "## Exercise I - of Lists and Random numbers\n",
    "\n",
    "**1**: Declare a variable X that stores a list of 100 integers randomly sampled between -100 and 100.<br>\n",
    "Note: You are not allowed to use third party libraries -- such as Numpy, Pandas, or Scipy -- in this exercise."
   ]
  },
  {
   "cell_type": "code",
   "execution_count": 231,
   "metadata": {
    "scrolled": true
   },
   "outputs": [
    {
     "name": "stdout",
     "output_type": "stream",
     "text": [
      "[-94, 96, -73, -13, -61, -47, 83, 78, -96, -22, -68, -24, -76, -78, -98, 90, 29, 19, -32, 44, -3, -21, 66, -20, 65, -2, 86, -50, 53, 23, 64, -9, 48, -46, 62, 70, -82, 49, -45, -35, -62, 10, 84, 42, 89, -51, 7, -74, -60, -90, 30, -81, 81, 68, 94, 12, -84, 59, -57, -87, 46, 57, -63, -25, 82, -77, 60, 14, 99, -42, 58, 16, 77, -19, 28, 67, 72, -48, -12, 11, 74, -71, -8, 41, -80, -70, -36, 43, 52, 93, -10, 17, -53, 8, -49, -85, 1, 95, 5, -28]\n"
     ]
    }
   ],
   "source": [
    "X=random.sample(range(-100,101), k=100) # assigns a random k lenght list to variable X where k is 100\n",
    "print(X)"
   ]
  },
  {
   "cell_type": "markdown",
   "metadata": {},
   "source": [
    "**2**: How many odd numbers are in the list X?\n"
   ]
  },
  {
   "cell_type": "code",
   "execution_count": 232,
   "metadata": {},
   "outputs": [
    {
     "name": "stdout",
     "output_type": "stream",
     "text": [
      "There are 44 odd numbers in the list X.\n"
     ]
    }
   ],
   "source": [
    "count_odd_numbers=0\n",
    "\n",
    "for number in X:\n",
    "    if number%2!=0:\n",
    "        count_odd_numbers+=1\n",
    "\n",
    "print('There are ' + str(count_odd_numbers) + ' odd numbers in the list X.')"
   ]
  },
  {
   "cell_type": "markdown",
   "metadata": {},
   "source": [
    "**2.1** Check if there are as many even numbers as there are odd numbers, else discard the list and generate a new one."
   ]
  },
  {
   "cell_type": "code",
   "execution_count": 233,
   "metadata": {},
   "outputs": [
    {
     "name": "stdout",
     "output_type": "stream",
     "text": [
      "There are not as many even numbers as there are odd numbers in the list X, so a new list was generated.\n"
     ]
    }
   ],
   "source": [
    "even_numbers=0\n",
    "odd_numbers=0\n",
    "\n",
    "for number in X:   \n",
    "    if number%2==0: # check if a number is even\n",
    "        even_numbers+=1\n",
    "    else:           # check if a number is odd\n",
    "        odd_numbers+=1\n",
    "\n",
    "if odd_numbers==even_numbers: # check if number of odd numbers is the same as number of even numbers\n",
    "    print('There are as many even numbers as there are odd numbers in the list X.')\n",
    "else: # generates a new list X when the proportion of odd numbers are different from the even numbers\n",
    "    X=random.sample(range(-100,101), k=100)\n",
    "    print('There are not as many even numbers as there are odd numbers in the list X, so a new list was generated.')"
   ]
  },
  {
   "cell_type": "markdown",
   "metadata": {},
   "source": [
    "**2.2** Create a pipeline to automatically perform the tasks above such that you avoid having to run the cells multiple times to reach the desired outcome."
   ]
  },
  {
   "cell_type": "code",
   "execution_count": 234,
   "metadata": {
    "scrolled": true
   },
   "outputs": [
    {
     "name": "stdout",
     "output_type": "stream",
     "text": [
      "The list have the same number of even and odd numbers\n",
      "The number of times a new list generated 10\n",
      "\n",
      "[20, 15, -46, -33, -5, 3, 24, 67, -50, 27, -15, 5, 73, -39, 45, 83, -40, -58, 74, 19, -80, 64, -85, 4, 28, -89, -26, -56, 53, 52, -42, 22, -86, 85, 88, 57, 91, -90, 14, 77, 59, -79, -4, -41, 34, -91, -87, 26, 69, 68, 9, 33, 94, -20, -51, -72, -54, -29, 39, -93, -66, -57, -81, -67, -30, -68, -1, 44, -34, 63, 81, -48, -36, 99, 54, 89, -32, 23, 32, 48, -47, -75, -23, 6, 46, 51, -21, 84, -28, 30, -9, -74, -98, -65, 29, -99, -76, -62, -12, 78]\n"
     ]
    }
   ],
   "source": [
    "def check_even_odd_numbers(list_X): # returns true if the proportion of even numbers is equal to odd numbers else false\n",
    "    even_numbers=0\n",
    "    odd_numbers=0\n",
    "    for number in list_X:   \n",
    "        if number%2==0: \n",
    "            even_numbers+=1\n",
    "        else:           \n",
    "            odd_numbers+=1\n",
    "    return even_numbers==odd_numbers\n",
    "\n",
    "def generate_new_list(): # generates a new list as previously stated\n",
    "    X=random.sample(range(-100,101), k=100)\n",
    "    return X\n",
    "\n",
    "# Receives a list \n",
    "# Iterates until it has the same number of even and odd numbers by generating a new list \n",
    "# Returns a list with the same number of even and odd numbers \n",
    "def automatic_process(list_X): \n",
    "    number_list_generated=0\n",
    "    while not check_even_odd_numbers(list_X):\n",
    "        list_X = generate_new_list()\n",
    "        number_list_generated+=1\n",
    "    print('The list have the same number of even and odd numbers')\n",
    "    print('The number of times a new list generated', number_list_generated)\n",
    "    return list_X\n",
    "    \n",
    "X=generate_new_list()\n",
    "X=automatic_process(X)\n",
    "print('')\n",
    "print(X)"
   ]
  },
  {
   "cell_type": "markdown",
   "metadata": {},
   "source": [
    "**3**: Print the number of digits that the 5th and 100th element of the list have. <br>\n",
    "*Note: For instance, the number 1 contains one digit, the number 10 contains two digits, the number -2 contains one digit.*"
   ]
  },
  {
   "cell_type": "code",
   "execution_count": 235,
   "metadata": {},
   "outputs": [
    {
     "name": "stdout",
     "output_type": "stream",
     "text": [
      "The 5th element -5 has 1 digits\n",
      "The 100th element 78 has 2 digits\n"
     ]
    }
   ],
   "source": [
    "element_5 = X[4]\n",
    "element_100 = X[-1]\n",
    "\n",
    "def count_digits(number): # count the digits of a number\n",
    "    count=0\n",
    "    if number==0:\n",
    "        return count+1\n",
    "    elif number<0: # if negative number we transform it to positive\n",
    "        number=-number\n",
    "        while number>0:\n",
    "            number//=10\n",
    "            count+=1\n",
    "        return count\n",
    "    else:\n",
    "        while number>0:\n",
    "            number//=10\n",
    "            count+=1\n",
    "        return count\n",
    "\n",
    "print('The 5th element '+str(element_5)+' has '+str(count_digits(element_5))+' digits'+\n",
    "      '\\n'+'The 100th element '+str(element_100)+' has '+str(count_digits(element_100))+' digits')"
   ]
  },
  {
   "cell_type": "markdown",
   "metadata": {},
   "source": [
    "**4**: Is the sum total of all the numbers in the list even or odd?"
   ]
  },
  {
   "cell_type": "code",
   "execution_count": 236,
   "metadata": {},
   "outputs": [
    {
     "name": "stdout",
     "output_type": "stream",
     "text": [
      "The sum total of all numbers is even.\n",
      "-292\n"
     ]
    }
   ],
   "source": [
    "if sum(X)%2==0: # check if sum is even\n",
    "    print('The sum total of all numbers is even.')\n",
    "else:\n",
    "    print('The sum total of all numbers is odd.')\n",
    "    \n",
    "print(sum(X))"
   ]
  },
  {
   "cell_type": "markdown",
   "metadata": {},
   "source": [
    "**5**: What is the average of the list X?"
   ]
  },
  {
   "cell_type": "code",
   "execution_count": 237,
   "metadata": {},
   "outputs": [
    {
     "name": "stdout",
     "output_type": "stream",
     "text": [
      "-2.92\n"
     ]
    }
   ],
   "source": [
    "print(statistics.mean(X))"
   ]
  },
  {
   "cell_type": "markdown",
   "metadata": {},
   "source": [
    "**5.1.** What is the population standard deviation? <br>"
   ]
  },
  {
   "cell_type": "code",
   "execution_count": 238,
   "metadata": {},
   "outputs": [
    {
     "name": "stdout",
     "output_type": "stream",
     "text": [
      "57.730946832892165\n"
     ]
    }
   ],
   "source": [
    "print(statistics.stdev(X))"
   ]
  },
  {
   "cell_type": "markdown",
   "metadata": {},
   "source": [
    "**6**: Sort list X in descending order and store the result in variable Xsort. <br>"
   ]
  },
  {
   "cell_type": "code",
   "execution_count": 239,
   "metadata": {},
   "outputs": [
    {
     "name": "stdout",
     "output_type": "stream",
     "text": [
      "[99, 94, 91, 89, 88, 85, 84, 83, 81, 78, 77, 74, 73, 69, 68, 67, 64, 63, 59, 57, 54, 53, 52, 51, 48, 46, 45, 44, 39, 34, 33, 32, 30, 29, 28, 27, 26, 24, 23, 22, 20, 19, 15, 14, 9, 6, 5, 4, 3, -1, -4, -5, -9, -12, -15, -20, -21, -23, -26, -28, -29, -30, -32, -33, -34, -36, -39, -40, -41, -42, -46, -47, -48, -50, -51, -54, -56, -57, -58, -62, -65, -66, -67, -68, -72, -74, -75, -76, -79, -80, -81, -85, -86, -87, -89, -90, -91, -93, -98, -99]\n"
     ]
    }
   ],
   "source": [
    "Xsort = sorted(X, reverse=True) # the default of the function sorted is ascending, so that is why we added the reverse=True\n",
    "print(Xsort)"
   ]
  },
  {
   "cell_type": "markdown",
   "metadata": {},
   "source": [
    "**6.1** Then replace each value in Xsort with index i as the sum of the values with index i-1 and i. <br> \n",
    "\n",
    "*Note: Per definition consider that Xsort[-1] = 0.*"
   ]
  },
  {
   "cell_type": "code",
   "execution_count": 240,
   "metadata": {},
   "outputs": [
    {
     "name": "stdout",
     "output_type": "stream",
     "text": [
      "[99, 193, 284, 373, 461, 546, 630, 713, 794, 872, 949, 1023, 1096, 1165, 1233, 1300, 1364, 1427, 1486, 1543, 1597, 1650, 1702, 1753, 1801, 1847, 1892, 1936, 1975, 2009, 2042, 2074, 2104, 2133, 2161, 2188, 2214, 2238, 2261, 2283, 2303, 2322, 2337, 2351, 2360, 2366, 2371, 2375, 2378, 2377, 2373, 2368, 2359, 2347, 2332, 2312, 2291, 2268, 2242, 2214, 2185, 2155, 2123, 2090, 2056, 2020, 1981, 1941, 1900, 1858, 1812, 1765, 1717, 1667, 1616, 1562, 1506, 1449, 1391, 1329, 1264, 1198, 1131, 1063, 991, 917, 842, 766, 687, 607, 526, 441, 355, 268, 179, 89, -2, -95, -193, -292]\n"
     ]
    }
   ],
   "source": [
    "# Sums taking account the new generated i-1\n",
    "\n",
    "for i in range(len(Xsort)):\n",
    "    if i==0:\n",
    "        Xsort[0] = Xsort[0]\n",
    "    else:\n",
    "        Xsort[i] = Xsort[i-1] + Xsort[i]\n",
    "    \n",
    "print(Xsort)"
   ]
  },
  {
   "cell_type": "code",
   "execution_count": 241,
   "metadata": {},
   "outputs": [
    {
     "name": "stdout",
     "output_type": "stream",
     "text": [
      "[99, 292, 477, 657, 834, 1007, 1176, 1343, 1507, 1666, 1821, 1972, 2119, 2261, 2398, 2533, 2664, 2791, 2913, 3029, 3140, 3247, 3352, 3455, 3554, 3648, 3739, 3828, 3911, 3984, 4051, 4116, 4178, 4237, 4294, 4349, 4402, 4452, 4499, 4544, 4586, 4625, 4659, 4688, 4711, 4726, 4737, 4746, 4753, 4755, 4750, 4741, 4727, 4706, 4679, 4644, 4603, 4559, 4510, 4456, 4399, 4340, 4278, 4213, 4146, 4076, 4001, 3922, 3841, 3758, 3670, 3577, 3482, 3384, 3283, 3178, 3068, 2955, 2840, 2720, 2593, 2462, 2329, 2194, 2054, 1908, 1759, 1608, 1453, 1294, 1133, 967, 796, 623, 447, 268, 87, -97, -288, -485]\n"
     ]
    }
   ],
   "source": [
    "#Sums taking account the old/previous i-1\n",
    "\n",
    "Xsort_memory=[]\n",
    "\n",
    "for i in range(len(Xsort)):\n",
    "    if i==0:\n",
    "        Xsort_memory.append(Xsort[0])\n",
    "    else:\n",
    "        Xsort_memory.append(Xsort[i-1]+Xsort[i])\n",
    "        \n",
    "print(Xsort_memory)"
   ]
  },
  {
   "cell_type": "markdown",
   "metadata": {},
   "source": [
    "## Exercise II - we have a gamer in the room\n",
    "\n",
    "**7**: Consider the dictionaries  *purchases* and *clients* that are declared in the cell below. <br>\n",
    "Create a list with the names of the clients who bought more than one videogame. Print the List. <br>"
   ]
  },
  {
   "cell_type": "code",
   "execution_count": 242,
   "metadata": {},
   "outputs": [],
   "source": [
    "purchases = {\n",
    "    \n",
    "    \"1539\":\"Red dead redemption II\",\n",
    "    \"9843\":\"GTA V,FarCry 5, watchdogs II\",\n",
    "    \"8472\":\"Canis Canem Edit\",\n",
    "    \"3874\":\"Watchdogs II,South Park: The Stick of Truth\",\n",
    "    \"5783\":\"AC: The Ezio Collection, watchdogs ii\",\n",
    "    \"9823\":\"For Honor,The Forest,South Park: The Fractured but whole\"\n",
    "    \n",
    "}"
   ]
  },
  {
   "cell_type": "code",
   "execution_count": 243,
   "metadata": {},
   "outputs": [],
   "source": [
    "clients = {\n",
    "    \n",
    "    \"1539\":\"Rick Sanchez\",\n",
    "    \"9843\":\"Morty Smith\",\n",
    "    \"8472\":\"Eve Polastri\",\n",
    "    \"3874\":\"Mildred Ratched\",\n",
    "    \"5783\":\"Alex Vause\",\n",
    "    \"9823\":\"Sheldon Cooper\"\n",
    "    \n",
    "}"
   ]
  },
  {
   "cell_type": "code",
   "execution_count": 244,
   "metadata": {},
   "outputs": [
    {
     "name": "stdout",
     "output_type": "stream",
     "text": [
      "['Morty Smith', 'Mildred Ratched', 'Alex Vause', 'Sheldon Cooper']\n"
     ]
    }
   ],
   "source": [
    "more_than_one_videogame=[]\n",
    "\n",
    "for id, videogame in purchases.items():\n",
    "    if \",\" in videogame: # checks if there is a \",\" in the videogames (value), if there is it means there is more than one\n",
    "        more_than_one_videogame.append(clients[id]) # it will add the name of the client that has that id to the list\n",
    "        \n",
    "print(more_than_one_videogame)     "
   ]
  },
  {
   "cell_type": "markdown",
   "metadata": {},
   "source": [
    "**7.1** What is the name of the client that bought more videogames?\n",
    "\n",
    "*Tip: You will want to check the methods associated with string manipulation. See the link: <br>\n",
    "https://python-reference.readthedocs.io/en/latest/docs/unicode/index.html*"
   ]
  },
  {
   "cell_type": "code",
   "execution_count": 245,
   "metadata": {},
   "outputs": [
    {
     "name": "stdout",
     "output_type": "stream",
     "text": [
      "['Morty Smith', 'Sheldon Cooper']\n"
     ]
    }
   ],
   "source": [
    "client_name_number_videogames={}\n",
    "\n",
    "for id, videogame in purchases.items():\n",
    "    videogames = len(videogame.split(',')) # counts the number of videogames in the created list\n",
    "    client_name_number_videogames[clients[id]]=videogames # dictionary with client name as key and number of videogames as value\n",
    "    \n",
    "    \n",
    "# return the client's name if the number of videogames of this client is equal to the max value of bought videogames\n",
    "client_names =[name for name, number in client_name_number_videogames.items() \n",
    "               if number == max(client_name_number_videogames.values())]\n",
    "\n",
    "print(client_names) # there are 2 clients with the max number of videogames, which is 3"
   ]
  },
  {
   "cell_type": "markdown",
   "metadata": {},
   "source": [
    "**7.2** What is the name of the most popular videogame?"
   ]
  },
  {
   "cell_type": "code",
   "execution_count": 246,
   "metadata": {},
   "outputs": [
    {
     "name": "stdout",
     "output_type": "stream",
     "text": [
      "The name of the most popular videogame is: ['watchdogs ii']\n"
     ]
    }
   ],
   "source": [
    "purchases_lowercase=[]\n",
    "\n",
    "for videogame in purchases.values():\n",
    "    videogame_lower_split=videogame.lower().split(',')\n",
    "#     print(videogame_lower_split)\n",
    "    purchases_lowercase.append(videogame_lower_split) # makes every videogame lower case so we can compare \n",
    "                                                      # and see if they match\n",
    "\n",
    "# we used .strip() to remove ' ' in the beginning and end of the videogames (strings)\n",
    "purchases_final = [videogame.strip() for purchase_list in purchases_lowercase for videogame in purchase_list]\n",
    "\n",
    "# we used multimode in case mode is more than one videogame \n",
    "print('The name of the most popular videogame is:', statistics.multimode(purchases_final)) "
   ]
  },
  {
   "cell_type": "markdown",
   "metadata": {},
   "source": [
    "# <span style=\"color:brown\"> Part 2 -  Data loading and analysis  </span>\n",
    "\n",
    "## Exercise I - Alice what do you have to say?\n",
    "\n",
    "**8**: Load the Alice text file into a variable called Alice. <br>\n",
    "\n",
    "*Note: Use a relative filepath in relation to the location of your notebook.*"
   ]
  },
  {
   "cell_type": "code",
   "execution_count": 247,
   "metadata": {},
   "outputs": [],
   "source": [
    "with open(\"alice.txt\", \"r\") as file:\n",
    "    Alice=file.read()"
   ]
  },
  {
   "cell_type": "markdown",
   "metadata": {},
   "source": [
    "**9**: Create a list in which each element is a word from the file *Alice*. Store that list in a variable called *wAlice*. <br>\n",
    "\n",
    "*Note: You will need to do some text parsing here. In particular to split the sentences into words. It is also a good practice to normalize words so that words \"Hello\" and \"hello\" become identical, by making all letters lower case. <br>*\n",
    "\n",
    "*Tip: check the following links for a discussion on regular expressions. Also consult the methods available for string manipulation.*\n",
    "\n",
    "https://docs.python.org/3/library/re.html\n",
    "\n",
    "https://stackoverflow.com/questions/1276764/stripping-everything-but-alphanumeric-chars-from-a-string-in-python"
   ]
  },
  {
   "cell_type": "code",
   "execution_count": 248,
   "metadata": {},
   "outputs": [
    {
     "name": "stdout",
     "output_type": "stream",
     "text": [
      "['alice', 'was', 'beginning', 'to', 'get', 'very', 'tired', 'of', 'sitting', 'by', 'her', 'sister', 'on', 'the', 'bank', 'and', 'of', 'having', 'nothing', 'to', 'do', 'once', 'or', 'twice', 'she', 'had', 'peeped', 'into', 'the', 'book', 'her', 'sister', 'was', 'reading', 'but', 'it', 'had', 'no', 'pictures', 'or', 'conversations', 'in', 'it', 'and', 'what', 'is', 'the', 'use', 'of', 'a', 'book', 'thought', 'alice', 'without', 'pictures', 'or', 'conversation']\n"
     ]
    }
   ],
   "source": [
    "Alice_lowercase = Alice.lower() # makes all the letters in Alice lower case\n",
    "Alice_only_words = re.sub(r'\\W+', ' ', Alice_lowercase) # removes all the pontuation except _\n",
    "wAlice = Alice_only_words.split() # splitting the text in words, making it so every word is an element of the list\n",
    "print(wAlice)"
   ]
  },
  {
   "cell_type": "markdown",
   "metadata": {},
   "source": [
    "##### Using the list *wAlice* answer the following questions:<br>\n",
    "**10**: How many words are in the file Alice.txt? <br>"
   ]
  },
  {
   "cell_type": "code",
   "execution_count": 249,
   "metadata": {},
   "outputs": [
    {
     "name": "stdout",
     "output_type": "stream",
     "text": [
      "There are 57 words in the file Alice.txt\n"
     ]
    }
   ],
   "source": [
    "print('There are ' + str(len(wAlice)) + ' words in the file Alice.txt')"
   ]
  },
  {
   "cell_type": "markdown",
   "metadata": {},
   "source": [
    "**11**: What is the longest and smallest word in the text file?\n",
    "\n",
    "*Note: Length in this case is measured in terms of the number of characters.*"
   ]
  },
  {
   "cell_type": "code",
   "execution_count": 250,
   "metadata": {},
   "outputs": [
    {
     "name": "stdout",
     "output_type": "stream",
     "text": [
      "The smallest word in the text file is: a\n",
      "The longest word in the text file is: conversations\n"
     ]
    }
   ],
   "source": [
    "print('The smallest word in the text file is:', min(wAlice, key=len))\n",
    "print('The longest word in the text file is:', max(wAlice, key=len))"
   ]
  },
  {
   "cell_type": "markdown",
   "metadata": {},
   "source": [
    "**12**: Delete all the repeated words from *wAlice*. "
   ]
  },
  {
   "cell_type": "code",
   "execution_count": 251,
   "metadata": {},
   "outputs": [
    {
     "name": "stdout",
     "output_type": "stream",
     "text": [
      "['sitting', 'her', 'pictures', 'what', 'twice', 'get', 'of', 'a', 'tired', 'it', 'in', 'very', 'to', 'and', 'was', 'conversation', 'but', 'into', 'or', 'book', 'without', 'do', 'sister', 'peeped', 'on', 'use', 'nothing', 'had', 'no', 'bank', 'the', 'conversations', 'beginning', 'having', 'once', 'by', 'thought', 'she', 'is', 'alice', 'reading']\n"
     ]
    }
   ],
   "source": [
    "wAlice_different_words = list(set(wAlice)) # can also do it with a for loop creating a new list and adding the element if there\n",
    "                                           # is no element equal in the new list already\n",
    "print(wAlice_different_words)"
   ]
  },
  {
   "cell_type": "markdown",
   "metadata": {},
   "source": [
    "**12.1**:How many different words does the text contain?"
   ]
  },
  {
   "cell_type": "code",
   "execution_count": 252,
   "metadata": {},
   "outputs": [
    {
     "name": "stdout",
     "output_type": "stream",
     "text": [
      "There are 41 different words in the text.\n"
     ]
    }
   ],
   "source": [
    "print('There are ' + str(len(wAlice_different_words)) + ' different words in the text.')"
   ]
  },
  {
   "cell_type": "markdown",
   "metadata": {},
   "source": [
    "## Exercise II - of Countries I Love\n",
    "\n",
    "Consider the list countries in the cell below. <br>\n",
    "It consists of a list of the 3-digit ISO codes of a set of countries of interest."
   ]
  },
  {
   "cell_type": "code",
   "execution_count": 253,
   "metadata": {},
   "outputs": [],
   "source": [
    "countries = [\n",
    "\n",
    "('PRT','Portugal','Europe'),\n",
    "('ISL','Israel','Asia'),\n",
    "('COL','Colombia','South America'),\n",
    "('NEV','Nevada','North America'),\n",
    "('JPN','Japan','Asia'),\n",
    "('RUS','Russia','well... which part?'),\n",
    "('DEN','Denmark','Europe'),\n",
    "('NOR','Norway','Europe')\n",
    "    \n",
    "]"
   ]
  },
  {
   "cell_type": "markdown",
   "metadata": {},
   "source": [
    "**Now consider the file *cdata.csv* that you should download.** <br>\n",
    "\n",
    "The file contains several information about countries, and is organized as follows:\n",
    "1. Column 1 is the 3-digit **ISO Code**\n",
    "2. Column 2 is the **Full Name** of the country\n",
    "3. Column 3 is the **Continent** of the country\n",
    "4. Column 4 is the **Population Size** in 2010\n",
    "5. Column 5 is the **GDP per capita** in 2010"
   ]
  },
  {
   "cell_type": "markdown",
   "metadata": {},
   "source": [
    "**13**: Using the Library CSV from Python STL, load the file *cdata.csv* into an object called *raw*. "
   ]
  },
  {
   "cell_type": "code",
   "execution_count": 254,
   "metadata": {},
   "outputs": [],
   "source": [
    "with open('cdata.csv', 'r') as file:\n",
    "    raw = list(csv.reader(file))"
   ]
  },
  {
   "cell_type": "markdown",
   "metadata": {},
   "source": [
    "**13.1**: Create a dictionary called *cData* in which the key corresponds to the 3-digit ISO Code and the value is a tuple with the information contained in the 2nd to the 5th of column of the cdata file."
   ]
  },
  {
   "cell_type": "code",
   "execution_count": 255,
   "metadata": {},
   "outputs": [],
   "source": [
    "cData={}\n",
    "for row in raw:\n",
    "    cData[row[0]] = tuple(row[1:5])"
   ]
  },
  {
   "cell_type": "code",
   "execution_count": 256,
   "metadata": {},
   "outputs": [
    {
     "data": {
      "text/plain": [
       "{'iso': ('countryname', 'continent', 'population(mil)', 'gdp'),\n",
       " 'ago': ('Angola', 'Africa', '23.369131088256836', '5988.534997149481'),\n",
       " 'bdi': ('Burundi', 'Africa', '8.766929626464844', '731.4232803265862'),\n",
       " 'ben': ('Benin', 'Africa', '9.199258804321289', '1919.9969479963038'),\n",
       " 'bfa': ('Burkina Faso', 'Africa', '15.605216979980469', '1327.2165314775982'),\n",
       " 'bwa': ('Botswana', 'Africa', '2.0148661136627197', '12256.14159052444'),\n",
       " 'caf': ('Central African Republic',\n",
       "  'Africa',\n",
       "  '4.4485249519348145',\n",
       "  '865.4421867263901'),\n",
       " 'cmr': ('Cameroon', 'Africa', '19.970495223999023', '2684.972890247272'),\n",
       " 'cod': ('Democratic Republic of the Congo',\n",
       "  'Africa',\n",
       "  '64.52326202392578',\n",
       "  '634.9713963013496'),\n",
       " 'cog': ('Republic of the Congo',\n",
       "  'Africa',\n",
       "  '4.386693000793457',\n",
       "  '4979.990496069269'),\n",
       " 'com': ('Comoros', 'Africa', '0.6896920204162598', '2292.997969425929'),\n",
       " 'cpv': ('Cape Verde', 'Africa', '0.5023840069770813', '5644.821253339075'),\n",
       " 'dji': ('Djibouti', 'Africa', '0.8511459827423096', '2124.4420625972525'),\n",
       " 'dza': ('Algeria', 'Africa', '36.117637634277344', '12590.224223813591'),\n",
       " 'egy': ('Egypt', 'Africa', '84.10760498046875', '9148.839753298033'),\n",
       " 'eth': ('Ethiopia', 'Africa', '87.70266723632812', '1100.1831875876223'),\n",
       " 'gab': ('Gabon', 'Africa', '1.6402100324630737', '11961.168226448879'),\n",
       " 'gha': ('Ghana', 'Africa', '24.512104034423828', '3931.2918319728856'),\n",
       " 'gin': ('Guinea', 'Africa', '10.794170379638672', '1742.7346742167783'),\n",
       " 'gmb': ('Gambia', 'Africa', '1.692149043083191', '2681.8586168502143'),\n",
       " 'gnb': ('Guinea-Bissau',\n",
       "  'Africa',\n",
       "  '1.5558799505233765',\n",
       "  '1387.2497310879905'),\n",
       " 'gnq': ('Equatorial Guinea',\n",
       "  'Africa',\n",
       "  '0.9511039853096008',\n",
       "  '31416.887137501908'),\n",
       " 'ken': ('Kenya', 'Africa', '41.35015106201172', '2484.0349094725366'),\n",
       " 'lbr': ('Liberia', 'Africa', '3.948124885559082', '786.6702306741524'),\n",
       " 'lso': ('Lesotho', 'Africa', '2.040550947189331', '2432.7976546880823'),\n",
       " 'mar': ('Morocco', 'Africa', '32.409637451171875', '6421.937677907418'),\n",
       " 'mdg': ('Madagascar', 'Africa', '21.151639938354492', '1459.9156124535612'),\n",
       " 'mli': ('Mali', 'Africa', '15.075084686279297', '1873.2809618195865'),\n",
       " 'moz': ('Mozambique', 'Africa', '24.221405029296875', '969.2307622526259'),\n",
       " 'mrt': ('Mauritania', 'Africa', '3.6095430850982666', '3082.647028528842'),\n",
       " 'mus': ('Mauritius', 'Africa', '1.2479549646377563', '15178.325920597827'),\n",
       " 'mwi': ('Malawi', 'Africa', '15.167095184326172', '972.0456815116237'),\n",
       " 'nam': ('Namibia', 'Africa', '2.1731700897216797', '7689.171239820006'),\n",
       " 'ner': ('Niger', 'Africa', '16.42557716369629', '845.8693682212395'),\n",
       " 'nga': ('Nigeria', 'Africa', '158.57826232910156', '5186.304307542348'),\n",
       " 'rwa': ('Rwanda', 'Africa', '10.246842384338379', '1379.6993252327009'),\n",
       " 'sdn': ('Sudan', 'Africa', '34.385963439941406', '3608.7856176907358'),\n",
       " 'sen': ('Senegal', 'Africa', '12.916229248046875', '2741.121456198507'),\n",
       " 'sle': ('Sierra Leone', 'Africa', '6.4587202072143555', '1161.8796942144647'),\n",
       " 'swz': ('Swaziland', 'Africa', '1.2028429508209229', '7042.524359035093'),\n",
       " 'syc': ('Seychelles', 'Africa', '0.0914049968123436', '17960.353075613308'),\n",
       " 'tcd': ('Chad', 'Africa', '11.887202262878418', '1880.3748762799714'),\n",
       " 'tgo': ('Togo', 'Africa', '6.5029520988464355', '1222.8150529133295'),\n",
       " 'tun': ('Tunisia', 'Africa', '10.639930725097656', '10647.834980284626'),\n",
       " 'tza': ('Tanzania', 'Africa', '44.82893753051758', '1979.1718644815185'),\n",
       " 'uga': ('Uganda', 'Africa', '33.91513442993164', '1723.5943355766267'),\n",
       " 'zaf': ('South Africa', 'Africa', '51.58466339111328', '11388.640515995063'),\n",
       " 'zmb': ('Zambia', 'Africa', '13.850032806396484', '2870.8872656342314'),\n",
       " 'zwe': ('Zimbabwe', 'Africa', '14.08631706237793', '1479.0305839163732'),\n",
       " 'are': ('United Arab Emirates',\n",
       "  'Asia',\n",
       "  '8.270684242248535',\n",
       "  '59707.412565389604'),\n",
       " 'arm': ('Armenia', 'Asia', '2.8773109912872314', '8222.945234202914'),\n",
       " 'aze': ('Azerbaijan', 'Asia', '9.03245735168457', '12947.102198682365'),\n",
       " 'bgd': ('Bangladesh', 'Asia', '152.14910888671875', '2411.1020691099325'),\n",
       " 'bhr': ('Bahrain', 'Asia', '1.2408620119094849', '37045.81310919623'),\n",
       " 'brn': ('Brunei', 'Asia', '0.3886620104312897', '67320.89957245934'),\n",
       " 'btn': ('Bhutan', 'Asia', '0.7276409864425659', '7235.18974818538'),\n",
       " 'chn': ('China', 'Asia', '1359.755126953125', '9337.290772677254'),\n",
       " 'cyp': ('Cyprus', 'Asia', '0.829446017742157', '28046.373877741087'),\n",
       " 'geo': ('Georgia', 'Asia', '4.231660842895508', '7966.602756952667'),\n",
       " 'hkg': ('Hong Kong', 'Asia', '7.02522087097168', '41687.946418899235'),\n",
       " 'ind': ('India', 'Asia', '1230.980712890625', '4357.0597360582315'),\n",
       " 'irn': ('Iran', 'Asia', '74.56751251220703', '17328.457882894658'),\n",
       " 'irq': ('Iraq', 'Asia', '30.7627010345459', '9344.543768350652'),\n",
       " 'isr': ('Israel', 'Asia', '7.42595911026001', '28638.9037385305'),\n",
       " 'jor': ('Jordan', 'Asia', '7.182390213012695', '9351.387283068141'),\n",
       " 'jpn': ('Japan', 'Asia', '128.5518798828125', '36595.63364058582'),\n",
       " 'kaz': ('Kazakhstan', 'Asia', '16.398975372314453', '17908.83993251286'),\n",
       " 'kgz': ('Kyrgyzstan', 'Asia', '5.422337055206299', '3382.4639059259293'),\n",
       " 'khm': ('Cambodia', 'Asia', '14.30873966217041', '2330.127207632253'),\n",
       " 'kor': ('South Korea', 'Asia', '49.5528564453125', '31589.705161145695'),\n",
       " 'kwt': ('Kuwait', 'Asia', '2.9980831146240234', '67029.51680017101'),\n",
       " 'lao': ('Laos', 'Asia', '6.246273994445801', '4316.969858587265'),\n",
       " 'lbn': ('Lebanon', 'Asia', '4.337141036987305', '18025.24893894264'),\n",
       " 'lka': ('Sri Lanka', 'Asia', '20.198352813720703', '8390.429701766443'),\n",
       " 'mac': ('Macau', 'Asia', '0.536969006061554', '91982.39517540816'),\n",
       " 'mdv': ('Maldives', 'Asia', '0.36451101303100586', '12140.803390739566'),\n",
       " 'mmr': ('Burma', 'Asia', '50.1558952331543', '3422.241340266976'),\n",
       " 'mng': ('Mongolia', 'Asia', '2.7126500606536865', '7670.714034382584'),\n",
       " 'mys': ('Malaysia', 'Asia', '28.112289428710938', '17913.164410782432'),\n",
       " 'npl': ('Nepal', 'Asia', '27.023136138916016', '1996.1961554516242'),\n",
       " 'omn': ('Oman', 'Asia', '3.0414600372314453', '40472.674942509126'),\n",
       " 'pak': ('Pakistan', 'Asia', '170.5601806640625', '4171.416562353057'),\n",
       " 'phl': ('Philippines', 'Asia', '93.72662353515625', '5391.233965240031'),\n",
       " 'qat': ('Qatar', 'Asia', '1.7796759605407715', '123128.40152283433'),\n",
       " 'sau': ('Saudi Arabia', 'Asia', '27.425676345825195', '42331.65885721999'),\n",
       " 'sgp': ('Singapore', 'Asia', '5.074252128601074', '58618.43503468222'),\n",
       " 'syr': ('Syria', 'Asia', '21.01883316040039', '5700.329438992399'),\n",
       " 'tha': ('Thailand', 'Asia', '67.20880889892578', '12496.244186726299'),\n",
       " 'tjk': ('Tajikistan', 'Asia', '7.641630172729492', '2784.5145587763627'),\n",
       " 'tkm': ('Turkmenistan', 'Asia', '5.087210178375244', '16061.429412691556'),\n",
       " 'tur': ('Turkey', 'Asia', '72.32691192626953', '17930.678781392427'),\n",
       " 'twn': ('Taiwan', 'Asia', '23.140947341918945', '37188.89452901009'),\n",
       " 'uzb': ('Uzbekistan', 'Asia', '28.606294631958008', '6574.51672506692'),\n",
       " 'vnm': ('Vietnam', 'Asia', '88.4725112915039', '4428.42140209062'),\n",
       " 'yem': ('Yemen', 'Asia', '23.606779098510742', '4553.557258443674'),\n",
       " 'alb': ('Albania', 'Europe', '2.9405250549316406', '9544.73991912729'),\n",
       " 'aut': ('Austria', 'Europe', '8.40994930267334', '40489.80635849457'),\n",
       " 'bel': ('Belgium', 'Europe', '10.938738822937012', '38177.94724875522'),\n",
       " 'bgr': ('Bulgaria', 'Europe', '7.404590129852295', '14906.784964031736'),\n",
       " 'bih': ('Bosnia and Herzegovina',\n",
       "  'Europe',\n",
       "  '3.7220840454101562',\n",
       "  '9049.364732987471'),\n",
       " 'blr': ('Belarus', 'Europe', '9.473071098327637', '16457.02937904922'),\n",
       " 'che': ('Switzerland', 'Europe', '7.831971168518066', '55688.020214268225'),\n",
       " 'cze': ('Czech Republic',\n",
       "  'Europe',\n",
       "  '10.536286354064941',\n",
       "  '26129.56935189834'),\n",
       " 'deu': ('Germany', 'Europe', '80.89478302001953', '40627.23054942445'),\n",
       " 'dnk': ('Denmark', 'Europe', '5.554843902587891', '43416.22338615916'),\n",
       " 'esp': ('Spain', 'Europe', '46.788631439208984', '31610.980157042286'),\n",
       " 'est': ('Estonia', 'Europe', '1.3321019411087036', '20265.572596704937'),\n",
       " 'fin': ('Finland', 'Europe', '5.365781784057617', '38394.06158150017'),\n",
       " 'fra': ('France', 'Europe', '65.14578247070312', '35786.16161450548'),\n",
       " 'gbr': ('United Kingdom', 'Europe', '63.30684280395508', '34810.28120173958'),\n",
       " 'grc': ('Greece', 'Europe', '11.446004867553711', '25815.80076797162'),\n",
       " 'hrv': ('Croatia', 'Europe', '4.328153133392334', '19305.008088868373'),\n",
       " 'hun': ('Hungary', 'Europe', '9.927840232849121', '20477.79856764035'),\n",
       " 'irl': ('Ireland', 'Europe', '4.626927852630615', '47823.50815113634'),\n",
       " 'isl': ('Iceland', 'Europe', '0.3203279972076416', '37729.01607603124'),\n",
       " 'ita': ('Italy', 'Europe', '59.72980880737305', '34727.67268834705'),\n",
       " 'ltu': ('Lithuania', 'Europe', '3.123802900314331', '18475.371145517096'),\n",
       " 'lux': ('Luxembourg', 'Europe', '0.5078889727592468', '57882.81020537233'),\n",
       " 'lva': ('Latvia', 'Europe', '2.1188480854034424', '16943.688322829523'),\n",
       " 'mda': ('Moldova', 'Europe', '4.0844807624816895', '4173.634753274572'),\n",
       " 'mkd': ('Macedonia', 'Europe', '2.0707390308380127', '11265.643175619889'),\n",
       " 'mlt': ('Malta', 'Europe', '0.41611000895500183', '22983.44992639125'),\n",
       " 'mne': ('Montenegro', 'Europe', '0.6242849826812744', '14960.94855221103'),\n",
       " 'nld': ('Netherlands', 'Europe', '16.68291664123535', '44004.146024770846'),\n",
       " 'nor': ('Norway', 'Europe', '4.885878086090088', '73262.68174170727'),\n",
       " 'pol': ('Poland', 'Europe', '38.323402404785156', '21006.027309294514'),\n",
       " 'prt': ('Portugal', 'Europe', '10.652320861816406', '25788.2739652247'),\n",
       " 'rou': ('Romania', 'Europe', '20.44034767150879', '16775.609043478133'),\n",
       " 'rus': ('Russia', 'Asia', '143.15386962890625', '21754.067899615977'),\n",
       " 'srb': ('Serbia', 'Europe', '7.291436195373535', '12453.482551916944'),\n",
       " 'svk': ('Slovakia', 'Europe', '5.404294013977051', '23061.12099058148'),\n",
       " 'svn': ('Slovenia', 'Europe', '2.045167922973633', '25831.33128718208'),\n",
       " 'swe': ('Sweden', 'Europe', '9.390168190002441', '40421.906436576974'),\n",
       " 'ukr': ('Ukraine', 'Europe', '45.79249954223633', '8713.259627419637'),\n",
       " 'abw': ('Aruba', 'NorthAmerica', '0.10166899859905243', '37059.34143869512'),\n",
       " 'aia': ('Anguilla',\n",
       "  'NorthAmerica',\n",
       "  '0.013768999837338924',\n",
       "  '21098.057152999143'),\n",
       " 'atg': ('Antigua and Barbuda',\n",
       "  'NorthAmerica',\n",
       "  '0.09466099739074707',\n",
       "  '17162.16102781353'),\n",
       " 'bhs': ('Bahamas',\n",
       "  'NorthAmerica',\n",
       "  '0.36083200573921204',\n",
       "  '29504.581346144332'),\n",
       " 'blz': ('Belize', 'NorthAmerica', '0.3216080069541931', '7145.952547655193'),\n",
       " 'bmu': ('Bermuda',\n",
       "  'NorthAmerica',\n",
       "  '0.06395599991083145',\n",
       "  '51447.147481910884'),\n",
       " 'brb': ('Barbados',\n",
       "  'NorthAmerica',\n",
       "  '0.27956900000572205',\n",
       "  '13995.612896540895'),\n",
       " 'can': ('Canada', 'NorthAmerica', '34.16866683959961', '40269.03526728651'),\n",
       " 'cri': ('Costa Rica',\n",
       "  'NorthAmerica',\n",
       "  '4.5452799797058105',\n",
       "  '12106.99191566891'),\n",
       " 'cuw': ('CuraÃ§ao',\n",
       "  'NorthAmerica',\n",
       "  '0.14760799705982208',\n",
       "  '24337.816177887613'),\n",
       " 'cym': ('Cayman Islands',\n",
       "  'NorthAmerica',\n",
       "  '0.05550700053572655',\n",
       "  '36670.678481483985'),\n",
       " 'dma': ('Dominica',\n",
       "  'NorthAmerica',\n",
       "  '0.07143999636173248',\n",
       "  '9101.993729581038'),\n",
       " 'dom': ('Dominican Republic',\n",
       "  'NorthAmerica',\n",
       "  '9.897985458374023',\n",
       "  '11500.13134401987'),\n",
       " 'grd': ('Grenada', 'NorthAmerica', '0.1046769991517067', '9791.291133092265'),\n",
       " 'gtm': ('Guatemala',\n",
       "  'NorthAmerica',\n",
       "  '14.630416870117188',\n",
       "  '6359.262684615136'),\n",
       " 'hnd': ('Honduras',\n",
       "  'NorthAmerica',\n",
       "  '8.194778442382812',\n",
       "  '3789.9102248753848'),\n",
       " 'hti': ('Haiti', 'NorthAmerica', '9.999616622924805', '1650.2697128700804'),\n",
       " 'jam': ('Jamaica', 'NorthAmerica', '2.8172099590301514', '6675.176956450172'),\n",
       " 'kna': ('Saint Kitts and Nevis',\n",
       "  'NorthAmerica',\n",
       "  '0.05144499987363815',\n",
       "  '17837.349758162076'),\n",
       " 'lca': ('Saint Lucia',\n",
       "  'NorthAmerica',\n",
       "  '0.17258000373840332',\n",
       "  '9178.266990673521'),\n",
       " 'mex': ('Mexico', 'NorthAmerica', '117.31893920898438', '14507.011923865603'),\n",
       " 'msr': ('Montserrat',\n",
       "  'NorthAmerica',\n",
       "  '0.00494399992749095',\n",
       "  '15385.002991478228'),\n",
       " 'nic': ('Nicaragua',\n",
       "  'NorthAmerica',\n",
       "  '5.737722873687744',\n",
       "  '3992.7619078961748'),\n",
       " 'pan': ('Panama', 'NorthAmerica', '3.6432220935821533', '15055.237591848218'),\n",
       " 'slv': ('El Salvador',\n",
       "  'NorthAmerica',\n",
       "  '6.164626121520996',\n",
       "  '6096.958357099287'),\n",
       " 'tca': ('Turks and Caicos Islands',\n",
       "  'NorthAmerica',\n",
       "  '0.030993999913334846',\n",
       "  '7230.966074605446'),\n",
       " 'tto': ('Trinidad and Tobago',\n",
       "  'NorthAmerica',\n",
       "  '1.3280999660491943',\n",
       "  '27510.236190041924'),\n",
       " 'usa': ('United States',\n",
       "  'NorthAmerica',\n",
       "  '308.6413879394531',\n",
       "  '49500.62628346238'),\n",
       " 'vct': ('Saint Vincent and the Grenadines',\n",
       "  'NorthAmerica',\n",
       "  '0.10931500047445297',\n",
       "  '8095.21923068351'),\n",
       " 'vgb': ('British Virgin Islands',\n",
       "  'NorthAmerica',\n",
       "  '0.027224000543355942',\n",
       "  '21183.279165646647'),\n",
       " 'aus': ('Australia', 'Oceania', '22.12006378173828', '44854.90004866657'),\n",
       " 'fji': ('Fiji', 'Oceania', '0.8599500060081482', '6902.0687720944225'),\n",
       " 'nzl': ('New Zealand', 'Oceania', '4.370061874389648', '30867.05437525178'),\n",
       " 'arg': ('Argentina',\n",
       "  'SouthAmerica',\n",
       "  '41.2238883972168',\n",
       "  '15841.658208158999'),\n",
       " 'bol': ('Bolivia', 'SouthAmerica', '9.918242454528809', '4806.608983377068'),\n",
       " 'bra': ('Brazil', 'SouthAmerica', '196.7962646484375', '13541.462561602328'),\n",
       " 'chl': ('Chile', 'SouthAmerica', '16.99335479736328', '18092.94007371081')}"
      ]
     },
     "execution_count": 256,
     "metadata": {},
     "output_type": "execute_result"
    }
   ],
   "source": [
    "cData"
   ]
  },
  {
   "cell_type": "markdown",
   "metadata": {},
   "source": [
    "**14**: Using *cData*, identify what is the most common Continent among the nations in the list *countries*."
   ]
  },
  {
   "cell_type": "code",
   "execution_count": 257,
   "metadata": {},
   "outputs": [
    {
     "name": "stdout",
     "output_type": "stream",
     "text": [
      "The most common Continent/s among the nations in the list countries is/are: ['Asia', 'Europe']\n"
     ]
    }
   ],
   "source": [
    "continents=[]\n",
    "for iso, info in cData.items(): #because based on the list countries we dont know the continent of Russia\n",
    "    for country in countries:\n",
    "        if country[1]=='Russia'==info[0] and info[0] not in continents:\n",
    "            continents.append(info[1])\n",
    "            \n",
    "for country in countries: #rest of countries (except Russia)\n",
    "    if country[1]!='Russia':\n",
    "        continents.append(country[2])\n",
    "\n",
    "# use multimode in case of multiple results\n",
    "print('The most common Continent/s among the nations in the list countries is/are:', statistics.multimode(continents))"
   ]
  },
  {
   "cell_type": "markdown",
   "metadata": {},
   "source": [
    "**15**: Using *cData*, identify what is the the most populated nation in the list *countries*."
   ]
  },
  {
   "cell_type": "code",
   "execution_count": 258,
   "metadata": {
    "scrolled": true
   },
   "outputs": [
    {
     "name": "stdout",
     "output_type": "stream",
     "text": [
      "The most populated nation in list countries is: Russia\n"
     ]
    }
   ],
   "source": [
    "most_populated_nation={} # dictionary where key will be the country name and value the number of population\n",
    "\n",
    "for iso, info in cData.items():\n",
    "    for country in countries:\n",
    "        if country[1]==info[0]:\n",
    "            if len(most_populated_nation)==0:\n",
    "                most_populated_nation[country[1]]=info[2]\n",
    "            else:\n",
    "                if float(info[2]) > float([pop for pop in most_populated_nation.values()][0]):\n",
    "                    most_populated_nation={}\n",
    "                    most_populated_nation[country[1]]=info[2]\n",
    "                \n",
    "            \n",
    "most_populated_nation\n",
    "print('The most populated nation in list countries is:', list(most_populated_nation.keys())[0])"
   ]
  },
  {
   "cell_type": "markdown",
   "metadata": {},
   "source": [
    "**16**: Compare the average GDP per capita of the nations in the list *countries* with the average GDP of the countries in cdata file. What can you conclude?"
   ]
  },
  {
   "cell_type": "code",
   "execution_count": 259,
   "metadata": {},
   "outputs": [
    {
     "name": "stdout",
     "output_type": "stream",
     "text": [
      "This is the average GDP of the nations in the list countries: 38242.63072863724\n",
      "This is the average GDP of the countries in cdata file: 18014.654543946035\n",
      "\n",
      "We can conclude that the nations in the list countries have a bigger production (gdp) on average than the countries in cdata file on average eventhough the nations in the list countries are in cdata file, constituting a \"deviation\".\n"
     ]
    }
   ],
   "source": [
    "gdp_countries=[]\n",
    "gdp_cdata=[]\n",
    "\n",
    "for iso, info in cData.items():\n",
    "    if info[3]!='gdp': # to not have 'gdp' in the list\n",
    "        gdp_cdata.append(float(info[3]))\n",
    "        for country in countries:\n",
    "            if country[1]==info[0]:\n",
    "                gdp_countries.append(float(info[3]))\n",
    "   \n",
    "print('This is the average GDP of the nations in the list countries:', statistics.mean(gdp_countries))\n",
    "print('This is the average GDP of the countries in cdata file:', statistics.mean(gdp_cdata))\n",
    "print('')\n",
    "print('We can conclude that the nations in the list countries have a bigger production (gdp) on average than the countries' \n",
    "' in cdata file on average eventhough the nations in the list countries are in cdata file, constituting a \"deviation\".')"
   ]
  },
  {
   "cell_type": "markdown",
   "metadata": {},
   "source": [
    "# <span style=\"color:brown\"> Part 3 - Functions hurt nobody </span>\n",
    "\n",
    "## Exercise I - I hate math\n",
    "\n",
    "##### Consider the following equation:\n",
    "\n",
    "\\begin{equation}\n",
    "    y = 6x^2 + 3x + 2\n",
    "\\end{equation}\n",
    "\n",
    "**17**: Write a function called *f* that takes one argument, x, and returns y according to the equation above. "
   ]
  },
  {
   "cell_type": "code",
   "execution_count": 260,
   "metadata": {},
   "outputs": [],
   "source": [
    "def f(x):\n",
    "    y = (6*(x**2)) + (3*x) + 2\n",
    "    return y"
   ]
  },
  {
   "cell_type": "markdown",
   "metadata": {},
   "source": [
    "**17.1**: Call the function for x = 2 and print the answer."
   ]
  },
  {
   "cell_type": "code",
   "execution_count": 261,
   "metadata": {},
   "outputs": [
    {
     "data": {
      "text/plain": [
       "32"
      ]
     },
     "execution_count": 261,
     "metadata": {},
     "output_type": "execute_result"
    }
   ],
   "source": [
    "f(2)"
   ]
  },
  {
   "cell_type": "markdown",
   "metadata": {},
   "source": [
    "##### Consider the following sequence of numbers:\n",
    "\n",
    "\\begin{equation}\n",
    "    x_0 = 0; ~~~ ~~~ ~~~ ~~ ~~~ ~~~ ~~~ ~~~ ~~~ ~~~ ~~~ ~~ ~~~ ~~~ ~~~ ~~ ~~~ ~~~ ~~~ ~~ ~ ~~~ ~~~ ~~~ ~~ ~~~ ~~~ ~~~ ~~ ~~~ ~~~ ~~~ ~~ ~~~ ~~~ ~~~ ~~ \\\\\n",
    "    x_{n} = x_{n-1} - n; ~~~ \\textit{ if} ~~~ x_{n-1}-n > 0 ~~~ \\textit{ and is not already in the sequence}\\\\\n",
    "    x_{n} = x_{n-1} + n; ~~~ \\textit{ otherwise} ~~~ ~~~ ~~~ ~~~ ~~ ~~~ ~~~ ~~~ ~~~ ~~~ ~ ~~~ ~~~ ~~~ ~~~ ~~~ ~~~ ~ ~~~ ~~~ ~~~~ ~~~ ~~~ ~~~ ~ \\\\\n",
    "\\end{equation}\n",
    "\n",
    "**17.2**: Write a function that returns the nth digit of the above defined sequence. <br>\n",
    "\n",
    "*Note: the above sequence is also known as the Recamán's sequence, and it was invnted by Bernardo Recamán Santos (Bogotá, Colombia)*"
   ]
  },
  {
   "cell_type": "code",
   "execution_count": 262,
   "metadata": {},
   "outputs": [
    {
     "data": {
      "text/plain": [
       "[0, 1, 3, 6, 2, 7, 13, 20, 12, 21, 11, 22, 10, 23, 9, 24]"
      ]
     },
     "execution_count": 262,
     "metadata": {},
     "output_type": "execute_result"
    }
   ],
   "source": [
    "def recaman_sequence(n):\n",
    "    x = [0]\n",
    "    for i in range(1, n+1): # to make it between 1 and n (inclusive), and i=n(the n from the sequence)\n",
    "        if (x[i-1] - i) > 0 and (x[i-1] - i) not in x:\n",
    "            x.append(x[i-1] - i)\n",
    "        else:\n",
    "            x.append(x[i-1] + i)\n",
    "    return x[n]\n",
    "\n",
    "list(map(recaman_sequence, [0,1,2,3,4,5,6,7,8,9,10,11,12,13,14,15]))"
   ]
  },
  {
   "cell_type": "markdown",
   "metadata": {},
   "source": [
    "**17.3** Write a function named isPrime that takes an integer as input and outputs True if the number is prime and False if the number if not prime."
   ]
  },
  {
   "cell_type": "code",
   "execution_count": 263,
   "metadata": {},
   "outputs": [],
   "source": [
    "def isPrime(integer):\n",
    "    true_false=[]\n",
    "    if integer==1: # 1 is not a prime number\n",
    "        true_false.append(False)\n",
    "    for i in range(1, integer): # the integer itself dont count\n",
    "        if integer%i==0 and i!=1:\n",
    "            true_false.append(False)\n",
    "        else:\n",
    "            true_false.append(True)\n",
    "    for i in true_false:\n",
    "        if i==False:\n",
    "            return False\n",
    "    return True"
   ]
  },
  {
   "cell_type": "markdown",
   "metadata": {},
   "source": [
    "**17.4** Test your function against some examples to show that it works as expected."
   ]
  },
  {
   "cell_type": "code",
   "execution_count": 264,
   "metadata": {},
   "outputs": [
    {
     "name": "stdout",
     "output_type": "stream",
     "text": [
      "[False, True, True, False, True, False, True, False, False, False, True, False, True, False, False]\n"
     ]
    }
   ],
   "source": [
    "print(list(map(isPrime, [1,2,3,4,5,6,7,8,9,10,11,12,13,14,15])))"
   ]
  },
  {
   "cell_type": "markdown",
   "metadata": {},
   "source": [
    "## Exercise II - Monty Hall Problem\n"
   ]
  },
  {
   "cell_type": "markdown",
   "metadata": {},
   "source": [
    "**18**: The Monty Hall Problem is a probability puzzle loosely based on the American television game show \"Let's Make a Deal\" and named after its original host, Monty Hall. The puzzle can be stated as follows\n",
    "\n",
    "> Suppose you're on a game show, and you're given the choice of three doors: Behind one door is a car; behind the others, goats. You pick a door, say No. 1, and the host, who knows what's behind the doors, opens another door, say No. 3, which has a goat. He then says to you, \"Do you want to pick door No. 2?\" Is it to your advantage to switch your choice? <br>\n",
    "+info: https://en.wikipedia.org/wiki/Monty_Hall_problem\n",
    "\n",
    "While intuitively your guess might be that the chances of winning the car is 1/3 independently of the choice to switch doors or not. Howewver, the odds of winning if you switch doors are 2/3 and greater than if you decide not to switch. While there are theoretical solutions to this problem that allow us to estimate the correct odds of winning in each scenario -- switching or not doors -- an alternative way to proof such outcome is through computer simulations. That is the goal of this exercise, to write the necessary components to simulate the Monty Hall problem and validate the theoretical results through simulations.\n",
    "\n",
    "In this exercise, start by implementing a function that simulates one instance of the Monty Hall problem. \n",
    "In that sense, write a function called MontyHall that accepts **one argument**:\n",
    "- A boolean (True/False, or 1/0) that specifies if the player switches doors or not (after the host has opened his door, which contains a goat).\n",
    "The function should return True if the player wins the car or False if not.\n",
    "\n",
    "Naturally, for the function to reproduce the contest it needs to consider and perform some actions, such as:\n",
    "- Set up the game, that is, create the necessary variables to store the information about three doors and what they have behind, as well as an indicator to track the choice of the player.\n",
    "- Given the initial choice of the player, simulate the opening of one of the two remaining doors that contains a goat.\n",
    "- Given the last two doors left, simulate if the player wants to switch or not his/her choice given their strategy (defined by the input boolean argument of the function).\n",
    "- Output the result, if the contestant correctly guesses which door hides the car or if not.\n",
    "\n",
    "The function MontyHall should simulate one instance of the contest given the choice of the player (to switch or not).\n",
    "\n",
    "**The goal is to understand, statistically, which action leads to the highest probability of winning.** <br>\n",
    "*Note: You should use the library random to solve this exercise.*"
   ]
  },
  {
   "cell_type": "code",
   "execution_count": 307,
   "metadata": {},
   "outputs": [],
   "source": [
    "def MontyHall(switch):\n",
    "    \n",
    "    #atribution of a random result to each door, eg. door1=car, door2=goat, door3=goat,  \n",
    "    #using options list has the possible results\n",
    "    doors=['Door1','Door2','Door3']\n",
    "    options=['Goat','Car']\n",
    "    \n",
    "    for door in range(len(doors)):\n",
    "        value = random.choice(options)\n",
    "        \n",
    "        #analysis of repeated atribution in terms of car to a door(and prevents it), \n",
    "        #analysis of 3 goat atribution to the doors (and prevents it)\n",
    "        if value in doors:\n",
    "            if value == 'Car' and doors[0] == 'Car':\n",
    "                doors[door] = 'Goat'\n",
    "            elif value == 'Car' and doors[1] == 'Car':\n",
    "                doors[door] = 'Goat'\n",
    "            elif value == 'Goat' and doors[0] == 'Goat' and doors[1] == 'Goat':\n",
    "                doors[door] = 'Car'\n",
    "            else:\n",
    "                doors[door] = value\n",
    "        else:\n",
    "            doors[door] = value\n",
    "            \n",
    "    #door index of player choice\n",
    "    index_options = [0, 1, 2]\n",
    "    index_choice = random.choice(index_options)\n",
    "    \n",
    "    #value of the door chosen by player, eg. player_choice='car'\n",
    "    player_choice = doors[index_choice]\n",
    "    \n",
    "    #door index of win choice\n",
    "    index_price = doors.index('Car')  \n",
    "    \n",
    "    #win choice door, eg win_choice='car'\n",
    "    win_choice = doors[index_price]\n",
    "\n",
    "    #possible outcomes:\n",
    "    #since a door was opened by the host we will only have two possibilities: change or mantain the decision\n",
    "    \n",
    "    #in case player gets right at the first time\n",
    "    if player_choice == win_choice:\n",
    "        if switch:\n",
    "            return False\n",
    "        else:\n",
    "            return True\n",
    "        \n",
    "    #in case player gets wrong at the first time\n",
    "    if player_choice != win_choice:\n",
    "        if switch:\n",
    "            return True\n",
    "        else:\n",
    "            return False"
   ]
  },
  {
   "cell_type": "code",
   "execution_count": 308,
   "metadata": {},
   "outputs": [
    {
     "data": {
      "text/plain": [
       "False"
      ]
     },
     "execution_count": 308,
     "metadata": {},
     "output_type": "execute_result"
    }
   ],
   "source": [
    "MontyHall(True)"
   ]
  },
  {
   "cell_type": "markdown",
   "metadata": {},
   "source": [
    "**18.1** Now that you have a function that simulates an instance of the Monty Hall problem, implement an experiment where you repeat many times (thousands of times) for each of the two possible scenarios: player switching the door, and player not switcing the door. Keep track of the results and estimate the frequencies of wins for each scenario and discuss if the results are inline with the theoretical odds."
   ]
  },
  {
   "cell_type": "code",
   "execution_count": 309,
   "metadata": {},
   "outputs": [
    {
     "name": "stdout",
     "output_type": "stream",
     "text": [
      "Frequency of winning when switched: 0.6619\n",
      "Frequency of winning when not switched: 0.3356\n"
     ]
    }
   ],
   "source": [
    "def experiment(number_of_times=10000):\n",
    "    \n",
    "    wins_when_switched=0\n",
    "    for i in range(number_of_times):\n",
    "        wins_when_switched+=MontyHall(True)\n",
    "        \n",
    "    wins_when_not_switched=0\n",
    "    for i in range(number_of_times):\n",
    "        wins_when_not_switched+=MontyHall(False)\n",
    "        \n",
    "    freq_when_switched = wins_when_switched / number_of_times\n",
    "    freq_when_not_switched = wins_when_not_switched / number_of_times\n",
    "    \n",
    "    print('Frequency of winning when switched:', freq_when_switched)\n",
    "    print('Frequency of winning when not switched:', freq_when_not_switched)\n",
    "    \n",
    "experiment()"
   ]
  },
  {
   "cell_type": "code",
   "execution_count": 310,
   "metadata": {
    "scrolled": true
   },
   "outputs": [
    {
     "name": "stdout",
     "output_type": "stream",
     "text": [
      "By running the experiment many times, the results are inline with the theoretical odds, because the Frequency of winning when switched is always 0.66 and when not switched 0.33\n"
     ]
    }
   ],
   "source": [
    "print('By running the experiment many times, the results are inline with the theoretical odds, because the Frequency of \\\n",
    "winning when switched is always 0.66 and when not switched 0.33')"
   ]
  },
  {
   "cell_type": "markdown",
   "metadata": {},
   "source": [
    "## Exercise III\n",
    "\n",
    "**19**: Consider the list *A*, declared below. <br>\n",
    "Use the function map() to change the values of A by adding 1 to each value if it is even and subtracting 1 to it otherwise."
   ]
  },
  {
   "cell_type": "code",
   "execution_count": 301,
   "metadata": {},
   "outputs": [],
   "source": [
    "A = [460,3347,3044,490,699,1258,1804,973,2223,3416,2879,1058,2915,2422,351,1543,1020,208,643,795,3337,2585,471,2623,1077]"
   ]
  },
  {
   "cell_type": "code",
   "execution_count": 302,
   "metadata": {},
   "outputs": [
    {
     "name": "stdout",
     "output_type": "stream",
     "text": [
      "[461, 3346, 3045, 491, 698, 1259, 1805, 972, 2222, 3417, 2878, 1059, 2914, 2423, 350, 1542, 1021, 209, 642, 794, 3336, 2584, 470, 2622, 1076]\n"
     ]
    }
   ],
   "source": [
    "A = list(map(lambda x: x+1 if x%2==0 else x-1, A))\n",
    "print(A)"
   ]
  },
  {
   "cell_type": "markdown",
   "metadata": {},
   "source": [
    "**20**: Create a list B with the same size of A, where each element is True if the associated value in list A is greater than 700, else is False."
   ]
  },
  {
   "cell_type": "code",
   "execution_count": 303,
   "metadata": {},
   "outputs": [
    {
     "name": "stdout",
     "output_type": "stream",
     "text": [
      "[False, True, True, False, False, True, True, True, True, True, True, True, True, True, False, True, True, False, False, True, True, True, False, True, True]\n"
     ]
    }
   ],
   "source": [
    "B = list(map(lambda x: True if x>700 else False, A))\n",
    "print(B)"
   ]
  },
  {
   "cell_type": "markdown",
   "metadata": {},
   "source": [
    "**21**: Create a list L that contains the Logarithm of base 10 of each value in A. <br>\n",
    "\n",
    "*Note: You should use the module math to solve this exercise.*"
   ]
  },
  {
   "cell_type": "code",
   "execution_count": 304,
   "metadata": {},
   "outputs": [
    {
     "name": "stdout",
     "output_type": "stream",
     "text": [
      "[2.663700925389648, 3.5245259366263757, 3.4835872969688935, 2.691081492122968, 2.843855422623161, 3.100025730107862, 3.2564772062416765, 2.987666264926274, 3.346744054604849, 3.5336449787987623, 3.459090789600586, 3.024895960107485, 3.464489547433971, 3.384353414137506, 2.5440680443502752, 3.1880843737149376, 3.00902574208691, 2.320146286111054, 2.807535028068853, 2.899820502427096, 3.5232260419657004, 3.4122925093230463, 2.672097857935717, 3.4186326873540653, 3.03181227133037]\n"
     ]
    }
   ],
   "source": [
    "L = list(map(lambda x: math.log(x,10), A))\n",
    "print(L)"
   ]
  },
  {
   "cell_type": "markdown",
   "metadata": {},
   "source": [
    "**22**: How many numbers in A are greater than 1000? <br>\n",
    "\n",
    "*Note: You should use the function filter().*"
   ]
  },
  {
   "cell_type": "code",
   "execution_count": 305,
   "metadata": {},
   "outputs": [
    {
     "data": {
      "text/plain": [
       "16"
      ]
     },
     "execution_count": 305,
     "metadata": {},
     "output_type": "execute_result"
    }
   ],
   "source": [
    "len(list(filter(lambda x: x>1000, A)))"
   ]
  },
  {
   "cell_type": "markdown",
   "metadata": {},
   "source": [
    "**23** Use the function isPrime, that you declared in 17.3, to identify which numbers from A are prime. Note that depending on your implementation of isPrime this task can take more or less time. Use filter to achieve this task."
   ]
  },
  {
   "cell_type": "code",
   "execution_count": 306,
   "metadata": {
    "scrolled": true
   },
   "outputs": [
    {
     "data": {
      "text/plain": [
       "[461, 491, 1259, 2423, 1021]"
      ]
     },
     "execution_count": 306,
     "metadata": {},
     "output_type": "execute_result"
    }
   ],
   "source": [
    "list(filter(isPrime, A))"
   ]
  },
  {
   "cell_type": "markdown",
   "metadata": {},
   "source": [
    "### Congratulations, it is done!"
   ]
  },
  {
   "cell_type": "markdown",
   "metadata": {},
   "source": [
    "![LEO_GOOD_JOB](https://www.idlememe.com/wp-content/uploads/2022/01/good-job-meme-idlememe-3.jpg)"
   ]
  },
  {
   "cell_type": "code",
   "execution_count": null,
   "metadata": {},
   "outputs": [],
   "source": []
  }
 ],
 "metadata": {
  "kernelspec": {
   "display_name": "Python 3 (ipykernel)",
   "language": "python",
   "name": "python3"
  },
  "language_info": {
   "codemirror_mode": {
    "name": "ipython",
    "version": 3
   },
   "file_extension": ".py",
   "mimetype": "text/x-python",
   "name": "python",
   "nbconvert_exporter": "python",
   "pygments_lexer": "ipython3",
   "version": "3.10.12"
  }
 },
 "nbformat": 4,
 "nbformat_minor": 2
}
